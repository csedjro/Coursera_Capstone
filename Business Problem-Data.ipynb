{
 "cells": [
  {
   "cell_type": "code",
   "execution_count": 2,
   "metadata": {},
   "outputs": [
    {
     "name": "stdout",
     "output_type": "stream",
     "text": [
      "An investment group is looking at new restaurant locations in Toronto.\n",
      "The data used will be:\n",
      "1 - Toronto location data will be used\n",
      "2 - The foursquare venue data will be used for this.\n",
      "3 - The focus will be on restaurants, office buildings\n",
      "4 - popularity of venues by number of likes\n"
     ]
    }
   ],
   "source": [
    "print('An investment group is looking at new restaurant locations in Toronto.')\n",
    "print('The data used will be:')\n",
    "print('1 - Toronto location data will be used')\n",
    "print('2 - The foursquare venue data will be used for this.')\n",
    "print('3 - The focus will be on restaurants, office buildings')\n",
    "print('4 - popularity of venues by number of likes')"
   ]
  },
  {
   "cell_type": "code",
   "execution_count": null,
   "metadata": {},
   "outputs": [],
   "source": []
  },
  {
   "cell_type": "code",
   "execution_count": null,
   "metadata": {},
   "outputs": [],
   "source": []
  }
 ],
 "metadata": {
  "kernelspec": {
   "display_name": "Python 3",
   "language": "python",
   "name": "python3"
  },
  "language_info": {
   "codemirror_mode": {
    "name": "ipython",
    "version": 3
   },
   "file_extension": ".py",
   "mimetype": "text/x-python",
   "name": "python",
   "nbconvert_exporter": "python",
   "pygments_lexer": "ipython3",
   "version": "3.7.4"
  }
 },
 "nbformat": 4,
 "nbformat_minor": 2
}
